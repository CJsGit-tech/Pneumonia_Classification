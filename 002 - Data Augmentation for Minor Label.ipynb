{
 "cells": [
  {
   "cell_type": "code",
   "execution_count": 1,
   "id": "7856b0ff",
   "metadata": {},
   "outputs": [],
   "source": [
    "import glob\n",
    "import matplotlib.pyplot as plt\n",
    "import Augmentor"
   ]
  },
  {
   "cell_type": "code",
   "execution_count": 2,
   "id": "71eb93f9",
   "metadata": {},
   "outputs": [
    {
     "name": "stdout",
     "output_type": "stream",
     "text": [
      "Initialised with 5407 image(s) found.\n",
      "Output directory set to datasets/RSNA-Pneumonia-Detection-Challenge/stage_2_train_images_Processed/train/1/output."
     ]
    }
   ],
   "source": [
    "path_to_data = 'datasets/RSNA-Pneumonia-Detection-Challenge/stage_2_train_images_Processed/train/1/'\n",
    "\n",
    "# Pipeline\n",
    "p = Augmentor.Pipeline(path_to_data,save_format='png')"
   ]
  },
  {
   "cell_type": "code",
   "execution_count": 3,
   "id": "cc2de706",
   "metadata": {},
   "outputs": [],
   "source": [
    "p.flip_left_right(probability=0.5)\n",
    "p.crop_centre(probability=0.5,percentage_area=0.9)\n",
    "p.shear(probability=0.5,max_shear_left=10,max_shear_right=10)\n",
    "# p.random_distortion(probability=0.5,grid_width=224,grid_height=224,magnitude=2)"
   ]
  },
  {
   "cell_type": "code",
   "execution_count": 4,
   "id": "551aafa6",
   "metadata": {
    "scrolled": true
   },
   "outputs": [
    {
     "name": "stderr",
     "output_type": "stream",
     "text": [
      "Processing <PIL.Image.Image image mode=L size=200x200 at 0x1FE09796790>:  51%|▌| 6133/12000 [00:13<00:03, 1511.98 SamplIOPub message rate exceeded.\n",
      "The notebook server will temporarily stop sending output\n",
      "to the client in order to avoid crashing it.\n",
      "To change this limit, set the config variable\n",
      "`--NotebookApp.iopub_msg_rate_limit`.\n",
      "\n",
      "Current values:\n",
      "NotebookApp.iopub_msg_rate_limit=1000.0 (msgs/sec)\n",
      "NotebookApp.rate_limit_window=3.0 (secs)\n",
      "\n",
      "Processing <PIL.Image.Image image mode=L size=200x200 at 0x1FE0B06A2E0>:  99%|▉| 11914/12000 [00:16<00:00, 1937.75 SampIOPub message rate exceeded.\n",
      "The notebook server will temporarily stop sending output\n",
      "to the client in order to avoid crashing it.\n",
      "To change this limit, set the config variable\n",
      "`--NotebookApp.iopub_msg_rate_limit`.\n",
      "\n",
      "Current values:\n",
      "NotebookApp.iopub_msg_rate_limit=1000.0 (msgs/sec)\n",
      "NotebookApp.rate_limit_window=3.0 (secs)\n",
      "\n"
     ]
    }
   ],
   "source": [
    "num_of_samples = 12000\n",
    "p.sample(num_of_samples)"
   ]
  },
  {
   "cell_type": "code",
   "execution_count": null,
   "id": "dc99c70d",
   "metadata": {},
   "outputs": [],
   "source": []
  }
 ],
 "metadata": {
  "kernelspec": {
   "display_name": "Python 3 (ipykernel)",
   "language": "python",
   "name": "python3"
  },
  "language_info": {
   "codemirror_mode": {
    "name": "ipython",
    "version": 3
   },
   "file_extension": ".py",
   "mimetype": "text/x-python",
   "name": "python",
   "nbconvert_exporter": "python",
   "pygments_lexer": "ipython3",
   "version": "3.8.8"
  }
 },
 "nbformat": 4,
 "nbformat_minor": 5
}
