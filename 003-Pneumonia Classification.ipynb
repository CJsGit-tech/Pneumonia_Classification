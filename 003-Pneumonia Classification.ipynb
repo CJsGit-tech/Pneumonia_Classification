{
 "cells": [
  {
   "cell_type": "code",
   "execution_count": 1,
   "id": "c384193d",
   "metadata": {},
   "outputs": [],
   "source": [
    "import tensorflow as tf\n",
    "import glob\n",
    "import numpy as np\n",
    "import matplotlib.pyplot as plt\n",
    "import pandas as pd\n",
    "from tf_explain.callbacks.grad_cam import GradCAMCallback\n",
    "from tensorflow.keras.applications.resnet50 import ResNet50 "
   ]
  },
  {
   "cell_type": "markdown",
   "id": "a0fa7d6c",
   "metadata": {},
   "source": [
    "## <font color='red'> Training Set </font>"
   ]
  },
  {
   "cell_type": "code",
   "execution_count": 2,
   "id": "bed566cb",
   "metadata": {},
   "outputs": [
    {
     "data": {
      "text/plain": [
       "(18593, 17407)"
      ]
     },
     "execution_count": 2,
     "metadata": {},
     "output_type": "execute_result"
    }
   ],
   "source": [
    "train_label_0 = glob.glob('datasets/RSNA-Pneumonia-Detection-Challenge/stage_2_train_images_Processed/train/0/*.png')\n",
    "train_label_1 = glob.glob('datasets/RSNA-Pneumonia-Detection-Challenge/stage_2_train_images_Processed/train/1/*.png')\n",
    "len(train_label_0),len(train_label_1)"
   ]
  },
  {
   "cell_type": "code",
   "execution_count": 3,
   "id": "9df15fe7",
   "metadata": {},
   "outputs": [],
   "source": [
    "train_image_paths = train_label_0 + train_label_1"
   ]
  },
  {
   "cell_type": "code",
   "execution_count": 4,
   "id": "de2df873",
   "metadata": {},
   "outputs": [
    {
     "data": {
      "text/plain": [
       "([0, 0, 0, 0, 0], [1, 1, 1, 1, 1])"
      ]
     },
     "execution_count": 4,
     "metadata": {},
     "output_type": "execute_result"
    }
   ],
   "source": [
    "train_labels = [0] * len(train_label_0) +  [1]* len(train_label_1)\n",
    "train_labels[:5],train_labels[-5:]"
   ]
  },
  {
   "cell_type": "code",
   "execution_count": 5,
   "id": "2c4685da",
   "metadata": {},
   "outputs": [
    {
     "data": {
      "text/html": [
       "<div>\n",
       "<style scoped>\n",
       "    .dataframe tbody tr th:only-of-type {\n",
       "        vertical-align: middle;\n",
       "    }\n",
       "\n",
       "    .dataframe tbody tr th {\n",
       "        vertical-align: top;\n",
       "    }\n",
       "\n",
       "    .dataframe thead th {\n",
       "        text-align: right;\n",
       "    }\n",
       "</style>\n",
       "<table border=\"1\" class=\"dataframe\">\n",
       "  <thead>\n",
       "    <tr style=\"text-align: right;\">\n",
       "      <th></th>\n",
       "      <th>image_path</th>\n",
       "      <th>labels</th>\n",
       "    </tr>\n",
       "  </thead>\n",
       "  <tbody>\n",
       "    <tr>\n",
       "      <th>0</th>\n",
       "      <td>datasets/RSNA-Pneumonia-Detection-Challenge/st...</td>\n",
       "      <td>0</td>\n",
       "    </tr>\n",
       "    <tr>\n",
       "      <th>1</th>\n",
       "      <td>datasets/RSNA-Pneumonia-Detection-Challenge/st...</td>\n",
       "      <td>0</td>\n",
       "    </tr>\n",
       "    <tr>\n",
       "      <th>2</th>\n",
       "      <td>datasets/RSNA-Pneumonia-Detection-Challenge/st...</td>\n",
       "      <td>0</td>\n",
       "    </tr>\n",
       "    <tr>\n",
       "      <th>3</th>\n",
       "      <td>datasets/RSNA-Pneumonia-Detection-Challenge/st...</td>\n",
       "      <td>0</td>\n",
       "    </tr>\n",
       "    <tr>\n",
       "      <th>4</th>\n",
       "      <td>datasets/RSNA-Pneumonia-Detection-Challenge/st...</td>\n",
       "      <td>0</td>\n",
       "    </tr>\n",
       "  </tbody>\n",
       "</table>\n",
       "</div>"
      ],
      "text/plain": [
       "                                          image_path  labels\n",
       "0  datasets/RSNA-Pneumonia-Detection-Challenge/st...       0\n",
       "1  datasets/RSNA-Pneumonia-Detection-Challenge/st...       0\n",
       "2  datasets/RSNA-Pneumonia-Detection-Challenge/st...       0\n",
       "3  datasets/RSNA-Pneumonia-Detection-Challenge/st...       0\n",
       "4  datasets/RSNA-Pneumonia-Detection-Challenge/st...       0"
      ]
     },
     "execution_count": 5,
     "metadata": {},
     "output_type": "execute_result"
    }
   ],
   "source": [
    "training_df = pd.DataFrame({'image_path':train_image_paths,\n",
    "                           'labels':train_labels})\n",
    "training_df.to_csv('pneumonia-training-set.csv')\n",
    "training_df.head()"
   ]
  },
  {
   "cell_type": "markdown",
   "id": "3919726e",
   "metadata": {},
   "source": [
    "# <font color='blue'> Validation set<font> "
   ]
  },
  {
   "cell_type": "code",
   "execution_count": 6,
   "id": "2abf327f",
   "metadata": {},
   "outputs": [
    {
     "data": {
      "text/plain": [
       "(2079, 605)"
      ]
     },
     "execution_count": 6,
     "metadata": {},
     "output_type": "execute_result"
    }
   ],
   "source": [
    "val_label_0 = glob.glob('datasets/RSNA-Pneumonia-Detection-Challenge/stage_2_train_images_Processed/val/0/*')\n",
    "val_label_1 = glob.glob('datasets/RSNA-Pneumonia-Detection-Challenge/stage_2_train_images_Processed/val/1/*')\n",
    "len(val_label_0),len(val_label_1)"
   ]
  },
  {
   "cell_type": "code",
   "execution_count": 7,
   "id": "d9fa3d3c",
   "metadata": {},
   "outputs": [],
   "source": [
    "val_image_paths = val_label_0 + val_label_1"
   ]
  },
  {
   "cell_type": "code",
   "execution_count": 8,
   "id": "2808e0ca",
   "metadata": {},
   "outputs": [
    {
     "data": {
      "text/plain": [
       "([0, 0, 0, 0, 0], [1, 1, 1, 1, 1])"
      ]
     },
     "execution_count": 8,
     "metadata": {},
     "output_type": "execute_result"
    }
   ],
   "source": [
    "val_labels = [0] * len(val_label_0) +  [1] * len(val_label_1)\n",
    "val_labels[:5],val_labels[-5:]"
   ]
  },
  {
   "cell_type": "code",
   "execution_count": 9,
   "id": "497023a9",
   "metadata": {},
   "outputs": [
    {
     "data": {
      "text/html": [
       "<div>\n",
       "<style scoped>\n",
       "    .dataframe tbody tr th:only-of-type {\n",
       "        vertical-align: middle;\n",
       "    }\n",
       "\n",
       "    .dataframe tbody tr th {\n",
       "        vertical-align: top;\n",
       "    }\n",
       "\n",
       "    .dataframe thead th {\n",
       "        text-align: right;\n",
       "    }\n",
       "</style>\n",
       "<table border=\"1\" class=\"dataframe\">\n",
       "  <thead>\n",
       "    <tr style=\"text-align: right;\">\n",
       "      <th></th>\n",
       "      <th>image_path</th>\n",
       "      <th>labels</th>\n",
       "    </tr>\n",
       "  </thead>\n",
       "  <tbody>\n",
       "    <tr>\n",
       "      <th>0</th>\n",
       "      <td>datasets/RSNA-Pneumonia-Detection-Challenge/st...</td>\n",
       "      <td>0</td>\n",
       "    </tr>\n",
       "    <tr>\n",
       "      <th>1</th>\n",
       "      <td>datasets/RSNA-Pneumonia-Detection-Challenge/st...</td>\n",
       "      <td>0</td>\n",
       "    </tr>\n",
       "    <tr>\n",
       "      <th>2</th>\n",
       "      <td>datasets/RSNA-Pneumonia-Detection-Challenge/st...</td>\n",
       "      <td>0</td>\n",
       "    </tr>\n",
       "    <tr>\n",
       "      <th>3</th>\n",
       "      <td>datasets/RSNA-Pneumonia-Detection-Challenge/st...</td>\n",
       "      <td>0</td>\n",
       "    </tr>\n",
       "    <tr>\n",
       "      <th>4</th>\n",
       "      <td>datasets/RSNA-Pneumonia-Detection-Challenge/st...</td>\n",
       "      <td>0</td>\n",
       "    </tr>\n",
       "  </tbody>\n",
       "</table>\n",
       "</div>"
      ],
      "text/plain": [
       "                                          image_path  labels\n",
       "0  datasets/RSNA-Pneumonia-Detection-Challenge/st...       0\n",
       "1  datasets/RSNA-Pneumonia-Detection-Challenge/st...       0\n",
       "2  datasets/RSNA-Pneumonia-Detection-Challenge/st...       0\n",
       "3  datasets/RSNA-Pneumonia-Detection-Challenge/st...       0\n",
       "4  datasets/RSNA-Pneumonia-Detection-Challenge/st...       0"
      ]
     },
     "execution_count": 9,
     "metadata": {},
     "output_type": "execute_result"
    }
   ],
   "source": [
    "validation_df = pd.DataFrame({'image_path':val_image_paths,\n",
    "                           'labels':val_labels})\n",
    "validation_df.to_csv('pneumonia-validation-set.csv')\n",
    "validation_df.head()"
   ]
  },
  {
   "cell_type": "markdown",
   "id": "aac9275d",
   "metadata": {},
   "source": [
    "### <font color='purple'>Create TF Dataset for training</font>"
   ]
  },
  {
   "cell_type": "code",
   "execution_count": 10,
   "id": "37db3701",
   "metadata": {},
   "outputs": [],
   "source": [
    "BATCH_SIZE = 32"
   ]
  },
  {
   "cell_type": "code",
   "execution_count": 11,
   "id": "6490555f",
   "metadata": {},
   "outputs": [],
   "source": [
    "@tf.function\n",
    "def load_image(image_path,label):\n",
    "    # read the image from disk, decode it, resize it, and scale the\n",
    "    # pixels intensities to the range [0, 1]\n",
    "    image = tf.io.read_file(image_path)\n",
    "    image = tf.image.decode_png(image, channels=1)\n",
    "    image = tf.cast(image,dtype=tf.float32)\n",
    "    image = image / 255.0\n",
    "    \n",
    "    # Onehot-Encoding\n",
    "    label = tf.one_hot(label, 2)\n",
    "\n",
    "    return (image, label)\n",
    "\n",
    "# Data Augmentation\n",
    "# This decorator tells TensorFlow to take our Python function and convert it into a TensorFlow-callable graph. \n",
    "@tf.function\n",
    "def augmentation(image, label):\n",
    "    # perform random horizontal and vertical flips\n",
    "    image = tf.image.central_crop(image,central_fraction=0.85)\n",
    "    image = tf.image.resize(image,size=(224,224))\n",
    "    \n",
    "    # return the image and the label\n",
    "    return (image, label)"
   ]
  },
  {
   "cell_type": "code",
   "execution_count": 12,
   "id": "51791ea2",
   "metadata": {},
   "outputs": [],
   "source": [
    "dataset = tf.data.Dataset.from_tensor_slices((training_df['image_path'],training_df['labels']))\n",
    "dataset = (dataset.shuffle(len(training_df))\n",
    "                  .map(load_image).map(augmentation)\n",
    "                  .batch(BATCH_SIZE)\n",
    "                  .prefetch(tf.data.AUTOTUNE)\n",
    "          )"
   ]
  },
  {
   "cell_type": "markdown",
   "id": "a25fb0cc",
   "metadata": {},
   "source": [
    "### <font color='purple'>Create TF Dataset for Validation</font>"
   ]
  },
  {
   "cell_type": "code",
   "execution_count": 13,
   "id": "d77ac20f",
   "metadata": {},
   "outputs": [],
   "source": [
    "valid_dataset = tf.data.Dataset.from_tensor_slices((val_image_paths,val_labels))\n",
    "valid_dataset = (valid_dataset.map(load_image).map(augmentation)\n",
    "                              .batch(BATCH_SIZE)\n",
    "          )"
   ]
  },
  {
   "cell_type": "markdown",
   "id": "e1cc233a",
   "metadata": {},
   "source": [
    "###### <font color='purple'>Create TF Dataset for GradCAM</font>\n"
   ]
  },
  {
   "cell_type": "code",
   "execution_count": 14,
   "id": "dea700b6",
   "metadata": {},
   "outputs": [
    {
     "data": {
      "text/html": [
       "<div>\n",
       "<style scoped>\n",
       "    .dataframe tbody tr th:only-of-type {\n",
       "        vertical-align: middle;\n",
       "    }\n",
       "\n",
       "    .dataframe tbody tr th {\n",
       "        vertical-align: top;\n",
       "    }\n",
       "\n",
       "    .dataframe thead th {\n",
       "        text-align: right;\n",
       "    }\n",
       "</style>\n",
       "<table border=\"1\" class=\"dataframe\">\n",
       "  <thead>\n",
       "    <tr style=\"text-align: right;\">\n",
       "      <th></th>\n",
       "      <th>image_path</th>\n",
       "      <th>labels</th>\n",
       "    </tr>\n",
       "  </thead>\n",
       "  <tbody>\n",
       "    <tr>\n",
       "      <th>2674</th>\n",
       "      <td>datasets/RSNA-Pneumonia-Detection-Challenge/st...</td>\n",
       "      <td>1</td>\n",
       "    </tr>\n",
       "    <tr>\n",
       "      <th>2675</th>\n",
       "      <td>datasets/RSNA-Pneumonia-Detection-Challenge/st...</td>\n",
       "      <td>1</td>\n",
       "    </tr>\n",
       "    <tr>\n",
       "      <th>2676</th>\n",
       "      <td>datasets/RSNA-Pneumonia-Detection-Challenge/st...</td>\n",
       "      <td>1</td>\n",
       "    </tr>\n",
       "    <tr>\n",
       "      <th>2677</th>\n",
       "      <td>datasets/RSNA-Pneumonia-Detection-Challenge/st...</td>\n",
       "      <td>1</td>\n",
       "    </tr>\n",
       "    <tr>\n",
       "      <th>2678</th>\n",
       "      <td>datasets/RSNA-Pneumonia-Detection-Challenge/st...</td>\n",
       "      <td>1</td>\n",
       "    </tr>\n",
       "  </tbody>\n",
       "</table>\n",
       "</div>"
      ],
      "text/plain": [
       "                                             image_path  labels\n",
       "2674  datasets/RSNA-Pneumonia-Detection-Challenge/st...       1\n",
       "2675  datasets/RSNA-Pneumonia-Detection-Challenge/st...       1\n",
       "2676  datasets/RSNA-Pneumonia-Detection-Challenge/st...       1\n",
       "2677  datasets/RSNA-Pneumonia-Detection-Challenge/st...       1\n",
       "2678  datasets/RSNA-Pneumonia-Detection-Challenge/st...       1"
      ]
     },
     "execution_count": 14,
     "metadata": {},
     "output_type": "execute_result"
    }
   ],
   "source": [
    "grad_cam_df = validation_df[-10:]\n",
    "grad_cam_df.head()"
   ]
  },
  {
   "cell_type": "code",
   "execution_count": 15,
   "id": "9d363a0a",
   "metadata": {},
   "outputs": [],
   "source": [
    "grad_image_paths = grad_cam_df['image_path'].to_list()\n",
    "grad_label_1     = grad_cam_df['labels'].to_list()"
   ]
  },
  {
   "cell_type": "code",
   "execution_count": 16,
   "id": "6048776f",
   "metadata": {},
   "outputs": [],
   "source": [
    "grad_imgs = []\n",
    "for img_path in grad_image_paths:\n",
    "    image = tf.io.read_file(img_path)\n",
    "    image = tf.image.decode_png(image, channels=1)\n",
    "    image = tf.cast(image,dtype=tf.float32)\n",
    "    image = image / 255.0\n",
    "    grad_imgs.append(image.numpy())\n",
    "grad_imgs = np.array(grad_imgs)\n",
    "grad_label_1 = tf.one_hot(np.array(grad_label_1),2)"
   ]
  },
  {
   "cell_type": "code",
   "execution_count": 17,
   "id": "14287201",
   "metadata": {},
   "outputs": [
    {
     "data": {
      "text/plain": [
       "10"
      ]
     },
     "execution_count": 17,
     "metadata": {},
     "output_type": "execute_result"
    }
   ],
   "source": [
    "len(grad_imgs)"
   ]
  },
  {
   "cell_type": "code",
   "execution_count": 18,
   "id": "b4b619a0",
   "metadata": {
    "scrolled": true
   },
   "outputs": [
    {
     "data": {
      "text/plain": [
       "<tf.Tensor: shape=(10, 2), dtype=float32, numpy=\n",
       "array([[0., 1.],\n",
       "       [0., 1.],\n",
       "       [0., 1.],\n",
       "       [0., 1.],\n",
       "       [0., 1.],\n",
       "       [0., 1.],\n",
       "       [0., 1.],\n",
       "       [0., 1.],\n",
       "       [0., 1.],\n",
       "       [0., 1.]], dtype=float32)>"
      ]
     },
     "execution_count": 18,
     "metadata": {},
     "output_type": "execute_result"
    }
   ],
   "source": [
    "grad_label_1"
   ]
  },
  {
   "cell_type": "markdown",
   "id": "c35b3b09",
   "metadata": {},
   "source": [
    "### <font color='green'>Calculate class weights</font>"
   ]
  },
  {
   "cell_type": "code",
   "execution_count": 19,
   "id": "14adb381",
   "metadata": {},
   "outputs": [
    {
     "name": "stdout",
     "output_type": "stream",
     "text": [
      "Weight for class 0: 0.97\n",
      "Weight for class 1: 1.08\n"
     ]
    }
   ],
   "source": [
    "# Scaling by total/2 helps keep the loss to a similar magnitude.\n",
    "# The sum of the weights of all examples stays the same.\n",
    "weight_for_0 = (1 / len(train_label_0)) * ((len(train_label_0)+len(train_label_1)) / 2.0)\n",
    "weight_for_1 = (1 / len(train_label_1)) * ((len(train_label_0)+len(train_label_1)) / 2.0) + 0.05\n",
    "\n",
    "class_weight = {0: weight_for_0, 1: weight_for_1}\n",
    "\n",
    "print('Weight for class 0: {:.2f}'.format(weight_for_0))\n",
    "print('Weight for class 1: {:.2f}'.format(weight_for_1))"
   ]
  },
  {
   "cell_type": "code",
   "execution_count": 20,
   "id": "28c3e969",
   "metadata": {},
   "outputs": [
    {
     "name": "stdout",
     "output_type": "stream",
     "text": [
      "(32, 224, 224, 1)\n"
     ]
    }
   ],
   "source": [
    "for x, y in dataset.take(1):\n",
    "    print(x.shape)"
   ]
  },
  {
   "cell_type": "markdown",
   "id": "5ec05347",
   "metadata": {},
   "source": [
    "## Building Model using Transfer Learning"
   ]
  },
  {
   "cell_type": "code",
   "execution_count": 21,
   "id": "fc776406",
   "metadata": {},
   "outputs": [],
   "source": [
    "base_model = ResNet50(input_shape=(224,224,1),\n",
    "                         include_top=False,weights=None,pooling='avg')"
   ]
  },
  {
   "cell_type": "code",
   "execution_count": 22,
   "id": "484a6dfb",
   "metadata": {},
   "outputs": [],
   "source": [
    "# Customize the output layers\n",
    "flatten_all = tf.keras.layers.Flatten()(base_model.output)\n",
    "Dense_1 = tf.keras.layers.Dense(units=512,activation='relu')(flatten_all)\n",
    "prediction_layer = tf.keras.layers.Dense(units=2, activation='softmax')(Dense_1)\n",
    "\n",
    "# Concatenate the model\n",
    "model = tf.keras.models.Model(inputs=base_model.input, outputs=prediction_layer)\n",
    "model.compile(loss=tf.keras.losses.CategoricalCrossentropy(),\n",
    "              optimizer=tf.keras.optimizers.Adam(learning_rate=1e-3), \n",
    "              metrics='accuracy')"
   ]
  },
  {
   "cell_type": "code",
   "execution_count": 23,
   "id": "8aeb3b19",
   "metadata": {
    "scrolled": true
   },
   "outputs": [],
   "source": [
    "# model.summary()"
   ]
  },
  {
   "cell_type": "code",
   "execution_count": 24,
   "id": "3a6296ed",
   "metadata": {},
   "outputs": [],
   "source": [
    "# tf.keras.utils.plot_model(model,to_file='mobilenetV2-Pneumonia.png',show_shapes=True)"
   ]
  },
  {
   "cell_type": "markdown",
   "id": "cc4f6a40",
   "metadata": {},
   "source": [
    "#### <font color='red'> Callbacks <font>"
   ]
  },
  {
   "cell_type": "code",
   "execution_count": 25,
   "id": "6806416e",
   "metadata": {},
   "outputs": [],
   "source": [
    "from tensorflow.keras.callbacks import EarlyStopping"
   ]
  },
  {
   "cell_type": "code",
   "execution_count": 26,
   "id": "576ee53f",
   "metadata": {},
   "outputs": [],
   "source": [
    "es = EarlyStopping(patience=5,restore_best_weights=True)"
   ]
  },
  {
   "cell_type": "code",
   "execution_count": 28,
   "id": "4bd4c986",
   "metadata": {},
   "outputs": [],
   "source": [
    "callbacks = [\n",
    "    GradCAMCallback(\n",
    "        validation_data=(grad_imgs, grad_label_1),\n",
    "        layer_name=\"conv5_block3_3_conv\",\n",
    "        class_index=1,\n",
    "    ),\n",
    "#         SmoothGradCallback(\n",
    "#             validation_data=(grad_imgs, grad_label_1),\n",
    "#             class_index=0,\n",
    "#             num_samples=5,\n",
    "#             noise=1.0,\n",
    "#     ),\n",
    "#      OcclusionSensitivityCallback(\n",
    "#         validation_data=(grad_imgs, grad_label_1),\n",
    "#         class_index=0,\n",
    "#         patch_size=4,\n",
    "#     ),\n",
    "    es,\n",
    "]"
   ]
  },
  {
   "cell_type": "code",
   "execution_count": 29,
   "id": "464fa864",
   "metadata": {
    "scrolled": false
   },
   "outputs": [
    {
     "name": "stdout",
     "output_type": "stream",
     "text": [
      "Epoch 1/30\n",
      "   6/1125 [..............................] - ETA: 3:58 - loss: 5.1592 - accuracy: 0.4948WARNING:tensorflow:Callback method `on_train_batch_end` is slow compared to the batch time (batch time: 0.0934s vs `on_train_batch_end` time: 0.0996s). Check your callbacks.\n",
      "1125/1125 [==============================] - 252s 218ms/step - loss: 0.5690 - accuracy: 0.7565 - val_loss: 3.2242 - val_accuracy: 0.2291\n",
      "Epoch 2/30\n",
      "1125/1125 [==============================] - 247s 220ms/step - loss: 0.4477 - accuracy: 0.8012 - val_loss: 0.9875 - val_accuracy: 0.3923\n",
      "Epoch 3/30\n",
      "1125/1125 [==============================] - 245s 218ms/step - loss: 0.4247 - accuracy: 0.8112 - val_loss: 0.4704 - val_accuracy: 0.7798\n",
      "Epoch 4/30\n",
      "1125/1125 [==============================] - 248s 221ms/step - loss: 0.4113 - accuracy: 0.8174 - val_loss: 0.5459 - val_accuracy: 0.7444\n",
      "Epoch 5/30\n",
      "1125/1125 [==============================] - 245s 218ms/step - loss: 0.4003 - accuracy: 0.8208 - val_loss: 0.6959 - val_accuracy: 0.5760\n",
      "Epoch 6/30\n",
      "1125/1125 [==============================] - 245s 218ms/step - loss: 0.3875 - accuracy: 0.8285 - val_loss: 0.5949 - val_accuracy: 0.6710\n",
      "Epoch 7/30\n",
      "1125/1125 [==============================] - 246s 219ms/step - loss: 0.3770 - accuracy: 0.8340 - val_loss: 0.5113 - val_accuracy: 0.7504\n",
      "Epoch 8/30\n",
      "1125/1125 [==============================] - 249s 221ms/step - loss: 0.3671 - accuracy: 0.8345 - val_loss: 0.5745 - val_accuracy: 0.7347\n"
     ]
    }
   ],
   "source": [
    "history = model.fit(dataset,\n",
    "                    epochs=30,\n",
    "                    validation_data=valid_dataset,\n",
    "                    class_weight=class_weight,callbacks=[callbacks])"
   ]
  },
  {
   "cell_type": "markdown",
   "id": "0bede5e6",
   "metadata": {},
   "source": [
    "### Evaluation"
   ]
  },
  {
   "cell_type": "code",
   "execution_count": 30,
   "id": "e52eaf75",
   "metadata": {},
   "outputs": [
    {
     "data": {
      "text/plain": [
       "<AxesSubplot:>"
      ]
     },
     "execution_count": 30,
     "metadata": {},
     "output_type": "execute_result"
    },
    {
     "data": {
      "image/png": "[encoded data removed]",
      "text/plain": [
       "<Figure size 432x288 with 1 Axes>"
      ]
     },
     "metadata": {
      "needs_background": "light"
     },
     "output_type": "display_data"
    }
   ],
   "source": [
    "loss = pd.DataFrame(history.history)\n",
    "loss.plot()"
   ]
  },
  {
   "cell_type": "code",
   "execution_count": 31,
   "id": "eb0daa09",
   "metadata": {},
   "outputs": [
    {
     "data": {
      "text/plain": [
       "<AxesSubplot:>"
      ]
     },
     "execution_count": 31,
     "metadata": {},
     "output_type": "execute_result"
    },
    {
     "data": {
      "image/png": "[encoded data removed]",
      "text/plain": [
       "<Figure size 432x288 with 1 Axes>"
      ]
     },
     "metadata": {
      "needs_background": "light"
     },
     "output_type": "display_data"
    }
   ],
   "source": [
    "loss[['loss','val_loss']].plot()"
   ]
  },
  {
   "cell_type": "code",
   "execution_count": 33,
   "id": "390f3ba5",
   "metadata": {},
   "outputs": [
    {
     "data": {
      "text/plain": [
       "<AxesSubplot:>"
      ]
     },
     "execution_count": 33,
     "metadata": {},
     "output_type": "execute_result"
    },
    {
     "data": {
      "image/png": "[encoded data removed]",
      "text/plain": [
       "<Figure size 432x288 with 1 Axes>"
      ]
     },
     "metadata": {
      "needs_background": "light"
     },
     "output_type": "display_data"
    }
   ],
   "source": [
    "loss[['accuracy','val_accuracy']].plot()"
   ]
  },
  {
   "cell_type": "code",
   "execution_count": 34,
   "id": "67c00710",
   "metadata": {},
   "outputs": [],
   "source": [
    "from sklearn.metrics import classification_report,confusion_matrix,ConfusionMatrixDisplay"
   ]
  },
  {
   "cell_type": "code",
   "execution_count": 42,
   "id": "111d19ac",
   "metadata": {},
   "outputs": [
    {
     "data": {
      "text/plain": [
       "array([0.01186976, 0.0134279 , 0.01396635, ..., 0.9860336 , 0.98657215,\n",
       "       0.9881302 ], dtype=float32)"
      ]
     },
     "execution_count": 42,
     "metadata": {},
     "output_type": "execute_result"
    }
   ],
   "source": [
    "predictions = model.predict(valid_dataset)\n"
   ]
  },
  {
   "cell_type": "code",
   "execution_count": 47,
   "id": "fdf01afc",
   "metadata": {
    "scrolled": true
   },
   "outputs": [],
   "source": [
    "predictions = np.argmax(predictions,axis=1)"
   ]
  },
  {
   "cell_type": "code",
   "execution_count": 48,
   "id": "2c8e2340",
   "metadata": {},
   "outputs": [
    {
     "data": {
      "text/plain": [
       "array([1, 0, 0, ..., 1, 1, 1], dtype=int64)"
      ]
     },
     "execution_count": 48,
     "metadata": {},
     "output_type": "execute_result"
    }
   ],
   "source": [
    "predictions"
   ]
  },
  {
   "cell_type": "code",
   "execution_count": 49,
   "id": "b1d44cf3",
   "metadata": {},
   "outputs": [],
   "source": [
    "y_true = validation_df['labels']"
   ]
  },
  {
   "cell_type": "code",
   "execution_count": 50,
   "id": "be6f965f",
   "metadata": {},
   "outputs": [
    {
     "data": {
      "text/plain": [
       "array([[1764,  315],\n",
       "       [ 276,  329]], dtype=int64)"
      ]
     },
     "execution_count": 50,
     "metadata": {},
     "output_type": "execute_result"
    }
   ],
   "source": [
    "cm = confusion_matrix(y_true,predictions)\n",
    "cm"
   ]
  },
  {
   "cell_type": "code",
   "execution_count": 51,
   "id": "cdeebb97",
   "metadata": {},
   "outputs": [
    {
     "name": "stdout",
     "output_type": "stream",
     "text": [
      "              precision    recall  f1-score   support\n",
      "\n",
      "           0       0.86      0.85      0.86      2079\n",
      "           1       0.51      0.54      0.53       605\n",
      "\n",
      "    accuracy                           0.78      2684\n",
      "   macro avg       0.69      0.70      0.69      2684\n",
      "weighted avg       0.78      0.78      0.78      2684\n",
      "\n"
     ]
    }
   ],
   "source": [
    "print(classification_report(y_true,predictions))"
   ]
  },
  {
   "cell_type": "code",
   "execution_count": 52,
   "id": "e2897522",
   "metadata": {},
   "outputs": [
    {
     "data": {
      "image/png": "[encoded data removed]",
      "text/plain": [
       "<Figure size 432x288 with 2 Axes>"
      ]
     },
     "metadata": {
      "needs_background": "light"
     },
     "output_type": "display_data"
    }
   ],
   "source": [
    "disp = ConfusionMatrixDisplay(cm,display_labels=['Pneumonia-Negative','Pneumonia-Positive'])\n",
    "disp.plot(cmap=plt.cm.Blues)\n",
    "plt.show()"
   ]
  },
  {
   "cell_type": "markdown",
   "id": "e03ca226",
   "metadata": {},
   "source": [
    "### Exporting Miclassified images"
   ]
  },
  {
   "cell_type": "code",
   "execution_count": 53,
   "id": "da3bc00d",
   "metadata": {},
   "outputs": [
    {
     "data": {
      "text/plain": [
       "591"
      ]
     },
     "execution_count": 53,
     "metadata": {},
     "output_type": "execute_result"
    }
   ],
   "source": [
    "miss_classified = []\n",
    "for idx,labels in enumerate(zip(y_true,predictions)):\n",
    "#     print(idx,labels)\n",
    "    if labels[0] != labels[1]:\n",
    "        miss_classified.append(idx)\n",
    "len(miss_classified)"
   ]
  },
  {
   "cell_type": "code",
   "execution_count": 54,
   "id": "f232c124",
   "metadata": {},
   "outputs": [
    {
     "data": {
      "text/plain": [
       "[0, 5, 20, 56, 61]"
      ]
     },
     "execution_count": 54,
     "metadata": {},
     "output_type": "execute_result"
    }
   ],
   "source": [
    "miss_classified[:5]"
   ]
  },
  {
   "cell_type": "code",
   "execution_count": 55,
   "id": "47c55f0a",
   "metadata": {},
   "outputs": [],
   "source": [
    "missed_df = validation_df.iloc[miss_classified]"
   ]
  },
  {
   "cell_type": "code",
   "execution_count": 56,
   "id": "f5ef7314",
   "metadata": {},
   "outputs": [
    {
     "name": "stderr",
     "output_type": "stream",
     "text": [
      "C:\\Users\\user\\AppData\\Local\\Temp/ipykernel_1188/1742523887.py:1: SettingWithCopyWarning: \n",
      "A value is trying to be set on a copy of a slice from a DataFrame.\n",
      "Try using .loc[row_indexer,col_indexer] = value instead\n",
      "\n",
      "See the caveats in the documentation: https://pandas.pydata.org/pandas-docs/stable/user_guide/indexing.html#returning-a-view-versus-a-copy\n",
      "  missed_df['pre_labels'] = missed_df['labels'].map({0:1,\n"
     ]
    }
   ],
   "source": [
    "missed_df['pre_labels'] = missed_df['labels'].map({0:1,\n",
    "                                                   1:0})"
   ]
  },
  {
   "cell_type": "code",
   "execution_count": 57,
   "id": "1f7f1bbd",
   "metadata": {},
   "outputs": [
    {
     "data": {
      "text/html": [
       "<div>\n",
       "<style scoped>\n",
       "    .dataframe tbody tr th:only-of-type {\n",
       "        vertical-align: middle;\n",
       "    }\n",
       "\n",
       "    .dataframe tbody tr th {\n",
       "        vertical-align: top;\n",
       "    }\n",
       "\n",
       "    .dataframe thead th {\n",
       "        text-align: right;\n",
       "    }\n",
       "</style>\n",
       "<table border=\"1\" class=\"dataframe\">\n",
       "  <thead>\n",
       "    <tr style=\"text-align: right;\">\n",
       "      <th></th>\n",
       "      <th>image_path</th>\n",
       "      <th>labels</th>\n",
       "      <th>pre_labels</th>\n",
       "    </tr>\n",
       "  </thead>\n",
       "  <tbody>\n",
       "    <tr>\n",
       "      <th>0</th>\n",
       "      <td>datasets/RSNA-Pneumonia-Detection-Challenge/st...</td>\n",
       "      <td>0</td>\n",
       "      <td>1</td>\n",
       "    </tr>\n",
       "    <tr>\n",
       "      <th>5</th>\n",
       "      <td>datasets/RSNA-Pneumonia-Detection-Challenge/st...</td>\n",
       "      <td>0</td>\n",
       "      <td>1</td>\n",
       "    </tr>\n",
       "    <tr>\n",
       "      <th>20</th>\n",
       "      <td>datasets/RSNA-Pneumonia-Detection-Challenge/st...</td>\n",
       "      <td>0</td>\n",
       "      <td>1</td>\n",
       "    </tr>\n",
       "    <tr>\n",
       "      <th>56</th>\n",
       "      <td>datasets/RSNA-Pneumonia-Detection-Challenge/st...</td>\n",
       "      <td>0</td>\n",
       "      <td>1</td>\n",
       "    </tr>\n",
       "    <tr>\n",
       "      <th>61</th>\n",
       "      <td>datasets/RSNA-Pneumonia-Detection-Challenge/st...</td>\n",
       "      <td>0</td>\n",
       "      <td>1</td>\n",
       "    </tr>\n",
       "    <tr>\n",
       "      <th>...</th>\n",
       "      <td>...</td>\n",
       "      <td>...</td>\n",
       "      <td>...</td>\n",
       "    </tr>\n",
       "    <tr>\n",
       "      <th>2663</th>\n",
       "      <td>datasets/RSNA-Pneumonia-Detection-Challenge/st...</td>\n",
       "      <td>1</td>\n",
       "      <td>0</td>\n",
       "    </tr>\n",
       "    <tr>\n",
       "      <th>2668</th>\n",
       "      <td>datasets/RSNA-Pneumonia-Detection-Challenge/st...</td>\n",
       "      <td>1</td>\n",
       "      <td>0</td>\n",
       "    </tr>\n",
       "    <tr>\n",
       "      <th>2673</th>\n",
       "      <td>datasets/RSNA-Pneumonia-Detection-Challenge/st...</td>\n",
       "      <td>1</td>\n",
       "      <td>0</td>\n",
       "    </tr>\n",
       "    <tr>\n",
       "      <th>2675</th>\n",
       "      <td>datasets/RSNA-Pneumonia-Detection-Challenge/st...</td>\n",
       "      <td>1</td>\n",
       "      <td>0</td>\n",
       "    </tr>\n",
       "    <tr>\n",
       "      <th>2678</th>\n",
       "      <td>datasets/RSNA-Pneumonia-Detection-Challenge/st...</td>\n",
       "      <td>1</td>\n",
       "      <td>0</td>\n",
       "    </tr>\n",
       "  </tbody>\n",
       "</table>\n",
       "<p>591 rows × 3 columns</p>\n",
       "</div>"
      ],
      "text/plain": [
       "                                             image_path  labels  pre_labels\n",
       "0     datasets/RSNA-Pneumonia-Detection-Challenge/st...       0           1\n",
       "5     datasets/RSNA-Pneumonia-Detection-Challenge/st...       0           1\n",
       "20    datasets/RSNA-Pneumonia-Detection-Challenge/st...       0           1\n",
       "56    datasets/RSNA-Pneumonia-Detection-Challenge/st...       0           1\n",
       "61    datasets/RSNA-Pneumonia-Detection-Challenge/st...       0           1\n",
       "...                                                 ...     ...         ...\n",
       "2663  datasets/RSNA-Pneumonia-Detection-Challenge/st...       1           0\n",
       "2668  datasets/RSNA-Pneumonia-Detection-Challenge/st...       1           0\n",
       "2673  datasets/RSNA-Pneumonia-Detection-Challenge/st...       1           0\n",
       "2675  datasets/RSNA-Pneumonia-Detection-Challenge/st...       1           0\n",
       "2678  datasets/RSNA-Pneumonia-Detection-Challenge/st...       1           0\n",
       "\n",
       "[591 rows x 3 columns]"
      ]
     },
     "execution_count": 57,
     "metadata": {},
     "output_type": "execute_result"
    }
   ],
   "source": [
    "missed_df"
   ]
  },
  {
   "cell_type": "code",
   "execution_count": 58,
   "id": "e0442715",
   "metadata": {},
   "outputs": [],
   "source": [
    "missed_df.to_csv('MisClassified_Results.csv',index_label=0)"
   ]
  },
  {
   "cell_type": "markdown",
   "id": "cd959377",
   "metadata": {},
   "source": [
    "#### Exporting Model"
   ]
  },
  {
   "cell_type": "code",
   "execution_count": 59,
   "id": "e1a8492c",
   "metadata": {},
   "outputs": [
    {
     "name": "stdout",
     "output_type": "stream",
     "text": [
      "INFO:tensorflow:Assets written to: ./pneu-model\\assets\n"
     ]
    },
    {
     "name": "stderr",
     "output_type": "stream",
     "text": [
      "C:\\Users\\user\\anaconda3\\envs\\tensorflow2\\lib\\site-packages\\keras\\engine\\functional.py:1410: CustomMaskWarning: Custom mask layers require a config and must override get_config. When loading, the custom mask layer must be passed to the custom_objects argument.\n",
      "  layer_config = serialize_layer_fn(layer)\n",
      "C:\\Users\\user\\anaconda3\\envs\\tensorflow2\\lib\\site-packages\\keras\\saving\\saved_model\\layer_serialization.py:112: CustomMaskWarning: Custom mask layers require a config and must override get_config. When loading, the custom mask layer must be passed to the custom_objects argument.\n",
      "  return generic_utils.serialize_keras_object(obj)\n"
     ]
    }
   ],
   "source": [
    "tf.keras.models.save_model(model,filepath='./pneu-model')"
   ]
  }
 ],
 "metadata": {
  "kernelspec": {
   "display_name": "Python 3 (ipykernel)",
   "language": "python",
   "name": "python3"
  },
  "language_info": {
   "codemirror_mode": {
    "name": "ipython",
    "version": 3
   },
   "file_extension": ".py",
   "mimetype": "text/x-python",
   "name": "python",
   "nbconvert_exporter": "python",
   "pygments_lexer": "ipython3",
   "version": "3.8.8"
  }
 },
 "nbformat": 4,
 "nbformat_minor": 5
}
