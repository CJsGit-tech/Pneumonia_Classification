{
 "cells": [
  {
   "cell_type": "code",
   "execution_count": null,
   "id": "86e163c7",
   "metadata": {},
   "outputs": [],
   "source": [
    "import tensorflow as tf \n",
    "from tf_explain.core import GradCAM,GradientsInputs"
   ]
  },
  {
   "cell_type": "code",
   "execution_count": null,
   "id": "61ba9009",
   "metadata": {},
   "outputs": [],
   "source": [
    "import glob\n",
    "import matplotlib.pyplot as plt\n",
    "import pandas as pd\n",
    "import numpy as np"
   ]
  },
  {
   "cell_type": "markdown",
   "id": "12556118",
   "metadata": {},
   "source": [
    "### Load images"
   ]
  },
  {
   "cell_type": "code",
   "execution_count": null,
   "id": "abf55016",
   "metadata": {},
   "outputs": [],
   "source": [
    "validation = pd.read_csv('pneumonia-validation-set.csv')\n",
    "validation.tail()"
   ]
  },
  {
   "cell_type": "code",
   "execution_count": null,
   "id": "b56ab28c",
   "metadata": {},
   "outputs": [],
   "source": [
    "neg_image_paths = validation['image_path'][:10].to_list()\n",
    "pos_image_paths = validation['image_path'][-10:].to_list()\n",
    "image_paths = neg_image_paths + pos_image_paths\n",
    "len(image_paths)"
   ]
  },
  {
   "cell_type": "code",
   "execution_count": null,
   "id": "edf04944",
   "metadata": {},
   "outputs": [],
   "source": [
    "def load_image(image_path):\n",
    "    # read the image from disk, decode it, resize it, and scale the\n",
    "    # pixels intensities to the range [0, 1]\n",
    "    image = tf.io.read_file(image_path)\n",
    "    image = tf.image.decode_png(image, channels=1)\n",
    "    image = tf.cast(image,dtype=tf.float32)\n",
    "    image = image / 255.0\n",
    "\n",
    "    return (image)"
   ]
  },
  {
   "cell_type": "code",
   "execution_count": null,
   "id": "1883233f",
   "metadata": {},
   "outputs": [],
   "source": [
    "images = []\n",
    "for i in range(len(image_paths)):\n",
    "    image = load_image(image_paths[i])\n",
    "    images.append(image)"
   ]
  },
  {
   "cell_type": "code",
   "execution_count": null,
   "id": "58809adb",
   "metadata": {},
   "outputs": [],
   "source": [
    "plt.imshow(images[0].numpy(),cmap = 'gray')"
   ]
  },
  {
   "cell_type": "code",
   "execution_count": null,
   "id": "c6b3f3ff",
   "metadata": {},
   "outputs": [],
   "source": [
    "plt.imshow(images[-1].numpy(),cmap = 'gray')"
   ]
  },
  {
   "cell_type": "markdown",
   "id": "cc98fd6b",
   "metadata": {},
   "source": [
    "### GradCAM Implementation"
   ]
  },
  {
   "cell_type": "code",
   "execution_count": null,
   "id": "575cd734",
   "metadata": {},
   "outputs": [],
   "source": [
    "# Load Model\n",
    "model = tf.keras.models.load_model('pneu-model/')"
   ]
  },
  {
   "cell_type": "code",
   "execution_count": null,
   "id": "81bb72c8",
   "metadata": {},
   "outputs": [],
   "source": [
    "# model.summary() # conv5_block3_3_conv"
   ]
  },
  {
   "cell_type": "code",
   "execution_count": null,
   "id": "3e1bc474",
   "metadata": {},
   "outputs": [],
   "source": [
    "labels = [0] * 10 + [1] * 10\n",
    "labels"
   ]
  },
  {
   "cell_type": "code",
   "execution_count": null,
   "id": "2019c3f6",
   "metadata": {},
   "outputs": [],
   "source": [
    "grad_cam"
   ]
  },
  {
   "cell_type": "code",
   "execution_count": null,
   "id": "bfe16c2c",
   "metadata": {},
   "outputs": [],
   "source": [
    "from tf_explain.callbacks.grad_cam import GradCAMCallback"
   ]
  },
  {
   "cell_type": "code",
   "execution_count": null,
   "id": "b7fcd60d",
   "metadata": {},
   "outputs": [],
   "source": [
    "callbacks = [\n",
    "    GradCAMCallback(\n",
    "        validation_data=(images[:10], labels[:10]),\n",
    "        layer_name=\"conv5_block3_3_conv\",\n",
    "        class_index=0,\n",
    "    )\n",
    "]\n",
    "model.evaluate(callbacks = )"
   ]
  }
 ],
 "metadata": {
  "kernelspec": {
   "display_name": "Python 3 (ipykernel)",
   "language": "python",
   "name": "python3"
  },
  "language_info": {
   "codemirror_mode": {
    "name": "ipython",
    "version": 3
   },
   "file_extension": ".py",
   "mimetype": "text/x-python",
   "name": "python",
   "nbconvert_exporter": "python",
   "pygments_lexer": "ipython3",
   "version": "3.8.8"
  }
 },
 "nbformat": 4,
 "nbformat_minor": 5
}
